{
 "cells": [
  {
   "cell_type": "markdown",
   "id": "826cbb48",
   "metadata": {},
   "source": [
    "### TreeCorr is a package for efficiently computing 2-point and 3-point correlation functions.\n",
    "documentation: https://rmjarvis.github.io/TreeCorr/_build/html/overview.html\n"
   ]
  },
  {
   "cell_type": "code",
   "execution_count": 18,
   "id": "64957744",
   "metadata": {},
   "outputs": [],
   "source": [
    "import astropy.io.fits as fits\n",
    "import numpy as np\n",
    "from astropy.coordinates import SkyCoord\n",
    "from astropy import units as u\n",
    "from astropy.table import Table,join\n",
    "import os\n",
    "import matplotlib.pyplot as plt\n",
    "from astropy.cosmology import FlatLambdaCDM\n",
    "import treecorr\n",
    "import pymc as pm\n",
    "import arviz as az\n",
    "\n",
    "\n",
    "\n",
    "\n",
    "# Assuming you have the path to the FITS file stored in thesis_path\n",
    "fits_file_path = os.path.join('/Volumes/data/Y3_deep_fields_DB_wKNN_cat_SN-C3_zm.fits')  # Replace with your actual file name\n",
    "\n"
   ]
  },
  {
   "cell_type": "code",
   "execution_count": 19,
   "id": "541926f7",
   "metadata": {},
   "outputs": [],
   "source": [
    "t= Table.read(fits_file_path)\n",
    "\n",
    "masked = os.path.join('/Volumes/data/SN-C3_masked_cat.fits')  # Replace with your actual file name\n",
    "\n",
    "t3= Table.read(masked)\n"
   ]
  },
  {
   "cell_type": "code",
   "execution_count": 20,
   "id": "71e798a2",
   "metadata": {},
   "outputs": [],
   "source": [
    "t=join(t,t3,keys='id')\n",
    "\n",
    "\n",
    "t.rename_column('ra_1','ra')\n",
    "t.rename_column('dec_1','dec')"
   ]
  },
  {
   "cell_type": "code",
   "execution_count": 23,
   "id": "44d46024",
   "metadata": {},
   "outputs": [
    {
     "name": "stdout",
     "output_type": "stream",
     "text": [
      "Filename: /Volumes/data/SN-C3_randoms_ugriz_trim_video.fits\n",
      "No.    Name      Ver    Type      Cards   Dimensions   Format\n",
      "  0  PRIMARY       1 PrimaryHDU       4   ()      \n",
      "  1  SN-C3_C01_randoms_raw.fits    1 BinTableHDU     18   13402307R x 3C   [E, E, 9A]   \n"
     ]
    }
   ],
   "source": [
    "fits_random = os.path.join('/Volumes/data/SN-C3_randoms_ugriz_trim_video.fits') \n",
    "\n",
    "# Open the FITS file using astropy.io.fits\n",
    "hdulist = fits.open(fits_random)\n",
    "hdulist.info()\n",
    "\n",
    "t2= Table.read(fits_random)"
   ]
  },
  {
   "cell_type": "code",
   "execution_count": 25,
   "id": "ac36b8ce",
   "metadata": {},
   "outputs": [],
   "source": [
    "ra_2 = t2['ra'][::1000]\n",
    "dec_2 = t2['dec'][::1000]\n",
    "\n",
    "random_catalog=SkyCoord(ra=ra_2*u.deg, dec=dec_2*u.deg)\n"
   ]
  },
  {
   "cell_type": "markdown",
   "id": "5eb88f42",
   "metadata": {},
   "source": [
    "## Select catalog subset !!!"
   ]
  },
  {
   "cell_type": "code",
   "execution_count": 26,
   "id": "3c10b30f",
   "metadata": {},
   "outputs": [],
   "source": [
    "# Select redshift subset \n",
    "subset = (t['z'] > 0.6) & (t['z'] < 0.7) & (t['SM']>10.5)& (t['SM']<11) #solar masses\n",
    "\n",
    "# Extract right ascension (ra) and declination (dec) arrays from the subset\n",
    "ra_subset = t['ra'][subset] #[::100]\n",
    "dec_subset = t['dec'][subset]#[::100]\n",
    "\n",
    "\n",
    "# Create a TreeCorr Catalog object\n",
    "ra=ra_subset*u.deg\n",
    "dec=dec_subset*u.deg\n",
    "\n"
   ]
  },
  {
   "cell_type": "code",
   "execution_count": 27,
   "id": "60e3d9c0",
   "metadata": {},
   "outputs": [],
   "source": [
    "config = {\n",
    "    'ra_col': 'ra',\n",
    "    'dec_col': 'dec',\n",
    "    'ra_units': 'deg',\n",
    "    'dec_units': 'deg',\n",
    "    'min_sep': 0.003,  # Define the minimum separation\n",
    "    'max_sep': 1.78,   # Define the maximum separation\n",
    "    'bin_size': 0.1, # Define the desired bin size (adjust as needed)\n",
    "    'sep_units':'deg'\n",
    "\n",
    "}\n",
    "\n",
    "#catalog= SkyCoord(ra=ra_subset * u.deg, dec=dec_subset * u.deg)\n",
    "cat1 = treecorr.Catalog(ra=ra, dec=dec, config=config, npatch=50)  # my catalog subset\n",
    "cat2 = treecorr.Catalog(ra= ra_2, dec= dec_2, config=config, npatch=50)"
   ]
  },
  {
   "cell_type": "code",
   "execution_count": 28,
   "id": "61d4a980",
   "metadata": {},
   "outputs": [],
   "source": [
    "\n",
    "#treecorr.NNCorrelation class requires two mandatory parameters: min_sep and max_sep.\n",
    "#These parameters define the minimum and maximum separation distances considered when calculating the correlation function.\n",
    "\n",
    "dd = treecorr.NNCorrelation(config) #var_method='bootstrap'\n",
    "rr = treecorr.NNCorrelation(config)\n",
    "\n",
    " "
   ]
  },
  {
   "cell_type": "code",
   "execution_count": 29,
   "id": "04173e70",
   "metadata": {},
   "outputs": [],
   "source": [
    "dd.process(cat1)   \n",
    "rr.process(cat2) "
   ]
  },
  {
   "cell_type": "code",
   "execution_count": 30,
   "id": "1732e40b",
   "metadata": {},
   "outputs": [],
   "source": [
    "rd = treecorr.NNCorrelation(config) \n",
    "dr = treecorr.NNCorrelation(config)"
   ]
  },
  {
   "cell_type": "code",
   "execution_count": 31,
   "id": "541bd6f1",
   "metadata": {},
   "outputs": [],
   "source": [
    "rd.process(cat1, cat2)   \n",
    "dr.process(cat1, cat2) "
   ]
  },
  {
   "cell_type": "code",
   "execution_count": 32,
   "id": "d7d68baa",
   "metadata": {},
   "outputs": [
    {
     "data": {
      "text/plain": [
       "(array([ 2.28057963e+00,  3.48993135e+00,  5.00299500e-01,  2.08884868e+00,\n",
       "         5.19965031e-01,  8.99976783e-01,  5.90493976e-01,  1.18116486e+00,\n",
       "         9.32076511e-01,  3.04385258e-01, -7.64927095e-02,  4.03178872e-01,\n",
       "         6.77147714e-01,  2.57335454e-01,  6.77992644e-01,  9.28363949e-01,\n",
       "         4.22478504e-01,  5.22355440e-01,  4.86740446e-01,  3.44482076e-01,\n",
       "         3.16812625e-01,  2.45752923e-01,  5.32375213e-01,  2.76096764e-01,\n",
       "         3.22906753e-01,  1.85015603e-01,  9.65348906e-02,  1.50987520e-01,\n",
       "         1.34149484e-01,  1.79433138e-01,  1.60194878e-01,  1.53709764e-01,\n",
       "         1.04454935e-01,  7.38471280e-02,  1.50365277e-01,  8.76786080e-02,\n",
       "         8.57443482e-02,  3.99365978e-02,  5.60255346e-02,  7.10143642e-02,\n",
       "         7.74171035e-02,  9.08248547e-02,  9.06351293e-02,  9.82321694e-03,\n",
       "         7.50587245e-02,  3.94879132e-02,  7.05453737e-03,  2.80887776e-02,\n",
       "        -9.58729632e-03,  2.31084773e-02,  1.63753063e-02, -1.87175156e-03,\n",
       "         3.53584141e-03, -1.28465928e-03,  2.62346455e-03, -2.63994995e-02,\n",
       "        -3.23052860e-02, -6.31335375e-02, -1.10872363e-02, -2.64872340e-02,\n",
       "         1.52746309e-02,  1.33274437e-02, -1.48776856e-02,  1.85085429e-02]),\n",
       " array([5.44879722e-01, 4.50017116e-01, 3.71930097e-01, 3.07549560e-01,\n",
       "        2.54510102e-01, 2.10693383e-01, 1.74457235e-01, 1.44443147e-01,\n",
       "        1.19622220e-01, 9.91134704e-02, 8.21894514e-02, 6.82086514e-02,\n",
       "        5.66547101e-02, 4.70940264e-02, 3.91948051e-02, 3.26544122e-02,\n",
       "        2.72467203e-02, 2.27662490e-02, 1.90487901e-02, 1.59342550e-02,\n",
       "        1.33041899e-02, 1.10818493e-02, 9.21891379e-03, 7.66543705e-03,\n",
       "        6.37206673e-03, 5.29849108e-03, 4.40973650e-03, 3.67118664e-03,\n",
       "        3.05888744e-03, 2.55225776e-03, 2.13075021e-03, 1.77834200e-03,\n",
       "        1.48376997e-03, 1.24038000e-03, 1.03924606e-03, 8.72915791e-04,\n",
       "        7.33115635e-04, 6.15322026e-04, 5.16779233e-04, 4.26642215e-04,\n",
       "        3.44256916e-04, 2.85722670e-04, 2.43628767e-04, 2.08192864e-04,\n",
       "        1.78424491e-04, 1.54670846e-04, 1.32409870e-04, 1.11078816e-04,\n",
       "        9.52546106e-05, 8.35597719e-05, 7.36059555e-05, 6.27242059e-05,\n",
       "        5.42042768e-05, 4.71635382e-05, 4.07029500e-05, 3.57498878e-05,\n",
       "        3.15793097e-05, 2.93024978e-05, 2.78428103e-05, 2.86785543e-05,\n",
       "        3.15081499e-05, 3.67232207e-05, 5.25954634e-05, 1.02323947e-04]))"
      ]
     },
     "execution_count": 32,
     "metadata": {},
     "output_type": "execute_result"
    }
   ],
   "source": [
    "dd.calculateXi(rr=rr, dr=dr)"
   ]
  },
  {
   "cell_type": "code",
   "execution_count": 81,
   "id": "ce99e1b6",
   "metadata": {},
   "outputs": [
    {
     "name": "stdout",
     "output_type": "stream",
     "text": [
      "[0.73815969 0.67083315 0.60986072 0.55457151 0.50448994 0.45901349\n",
      " 0.41768078 0.38005677 0.34586445 0.31482292 0.28668703 0.26116786\n",
      " 0.2380225  0.21701158 0.19797678 0.18070532 0.16506581 0.15088489\n",
      " 0.13801735 0.12623096 0.11534379 0.10527036 0.09601517 0.08755248\n",
      " 0.07982523 0.07279073 0.06640585 0.06059032 0.05530721 0.05051987\n",
      " 0.04616005 0.04217039 0.03851973 0.03521903 0.03223734 0.02954515\n",
      " 0.02707611 0.02480569 0.02273278 0.02065532 0.01855416 0.01690333\n",
      " 0.01560861 0.01442889 0.01335756 0.01243667 0.01150695 0.01053939\n",
      " 0.00975985 0.0091411  0.00857939 0.00791986 0.00736236 0.00686757\n",
      " 0.00637989 0.00597912 0.00561955 0.00541318 0.00527663 0.00535524\n",
      " 0.00561321 0.00605997 0.00725227 0.01011553]\n"
     ]
    }
   ],
   "source": [
    "diag = dd.estimate_cov(method='shot') #  In this case, the returned value will only be the diagonal.\n",
    "std= np.sqrt(diag)\n",
    "print(std)"
   ]
  },
  {
   "cell_type": "code",
   "execution_count": 83,
   "id": "3ab06c51",
   "metadata": {},
   "outputs": [],
   "source": [
    "theta_edges=np.linspace(-2.5,0.25,50) #-2.5 and 0.25 are log of the max and min separation in degrees\n",
    "theta_cen= (theta_edges[:-1]+theta_edges[1:])/2\n"
   ]
  },
  {
   "cell_type": "code",
   "execution_count": 84,
   "id": "9f639528",
   "metadata": {},
   "outputs": [],
   "source": [
    "deg_theta_cen=10**theta_cen\n",
    "\n",
    "w_fit= 2e-2* deg_theta_cen**(-0.8)\n",
    "cuts=(deg_theta_cen>3e-3) & (deg_theta_cen <1) #define valid values\n",
    "X= deg_theta_cen[cuts]\n",
    "Y= w_fit[cuts]\n",
    "\n",
    "\n"
   ]
  },
  {
   "cell_type": "code",
   "execution_count": 85,
   "id": "b931287a",
   "metadata": {},
   "outputs": [],
   "source": [
    "from astropy.cosmology import Planck15\n",
    "import matplotlib.pyplot as plt\n",
    "%matplotlib inline\n",
    "plt.rc('font',**{'family':'serif','size':18})\n",
    "plt.rc('text', usetex=True) # comment out this line if you don't have latex installed\n"
   ]
  },
  {
   "cell_type": "code",
   "execution_count": 93,
   "id": "f1277853",
   "metadata": {},
   "outputs": [
    {
     "data": {
      "text/plain": [
       "<matplotlib.legend.Legend at 0x2d82f17d0>"
      ]
     },
     "execution_count": 93,
     "metadata": {},
     "output_type": "execute_result"
    },
    {
     "data": {
      "image/png": "[encoded data removed]",
      "text/plain": [
       "<Figure size 1000x700 with 1 Axes>"
      ]
     },
     "metadata": {},
     "output_type": "display_data"
    }
   ],
   "source": [
    "\n",
    "w_fit_subset = w_fit[cuts]\n",
    "\n",
    "# Plot standard deviations\n",
    "fig = plt.figure(figsize=[10,7])\n",
    "ax = fig.add_subplot(111)\n",
    "ax.errorbar(deg_theta_cen[cuts], w_fit_subset, yerr=std, fmt='o', label='SN-C3')\n",
    "ax.set_xlabel(r'$\\theta$ (degrees)')\n",
    "ax.set_ylabel(r'$w(\\theta)$')\n",
    "ax.set_xscale('log')\n",
    "ax.set_yscale('log')\n",
    "ax.set_ylim([1e-4,10.])\n",
    "ax.set_xlim([8e-4,2.])\n",
    "secax = ax.secondary_xaxis('top',functions=(lambda x: x*Planck15.kpc_proper_per_arcmin(z_mean).value*60./1e3,\n",
    "                                   lambda x: x*Planck15.arcsec_per_kpc_proper(z_mean).value*1e3/3.6e3))\n",
    "secax.set_xlabel(r'Mpc')\n",
    "ax.legend()\n"
   ]
  },
  {
   "cell_type": "code",
   "execution_count": null,
   "id": "701f56c9",
   "metadata": {},
   "outputs": [],
   "source": []
  }
 ],
 "metadata": {
  "kernelspec": {
   "display_name": "pymc_env",
   "language": "python",
   "name": "pymc_env"
  },
  "language_info": {
   "codemirror_mode": {
    "name": "ipython",
    "version": 3
   },
   "file_extension": ".py",
   "mimetype": "text/x-python",
   "name": "python",
   "nbconvert_exporter": "python",
   "pygments_lexer": "ipython3",
   "version": "3.11.0"
  }
 },
 "nbformat": 4,
 "nbformat_minor": 5
}

{
 "cells": [
  {
   "cell_type": "markdown",
   "id": "826cbb48",
   "metadata": {},
   "source": [
    "### TreeCorr is a package for efficiently computing 2-point and 3-point correlation functions.\n",
    "documentation: https://rmjarvis.github.io/TreeCorr/_build/html/overview.html\n"
   ]
  },
  {
   "cell_type": "code",
   "execution_count": 1,
   "id": "64957744",
   "metadata": {},
   "outputs": [],
   "source": [
    "import astropy.io.fits as fits\n",
    "import numpy as np\n",
    "from astropy.coordinates import SkyCoord\n",
    "from astropy import units as u\n",
    "from astropy.table import Table,join\n",
    "import os\n",
    "import matplotlib.pyplot as plt\n",
    "from astropy.cosmology import FlatLambdaCDM\n",
    "import treecorr\n",
    "import pymc as pm\n",
    "import arviz as az\n",
    "\n",
    "\n",
    "fits_file_path = os.path.join('/Volumes/data/Y3_deep_fields_DB_wKNN_cat_SN-C3_zm.fits')  \n",
    "\n"
   ]
  },
  {
   "cell_type": "code",
   "execution_count": 2,
   "id": "541926f7",
   "metadata": {},
   "outputs": [],
   "source": [
    "t= Table.read(fits_file_path)\n",
    "\n",
    "masked = os.path.join('/Volumes/data/SN-C3_masked_cat.fits')  \n",
    "\n",
    "t3= Table.read(masked)\n"
   ]
  },
  {
   "cell_type": "code",
   "execution_count": 3,
   "id": "71e798a2",
   "metadata": {},
   "outputs": [],
   "source": [
    "t=join(t,t3,keys='id')\n",
    "\n",
    "\n",
    "t.rename_column('ra_1','ra')\n",
    "t.rename_column('dec_1','dec')"
   ]
  },
  {
   "cell_type": "code",
   "execution_count": 4,
   "id": "44d46024",
   "metadata": {},
   "outputs": [
    {
     "name": "stdout",
     "output_type": "stream",
     "text": [
      "Filename: /Volumes/data/SN-C3_randoms_ugriz_trim_video.fits\n",
      "No.    Name      Ver    Type      Cards   Dimensions   Format\n",
      "  0  PRIMARY       1 PrimaryHDU       4   ()      \n",
      "  1  SN-C3_C01_randoms_raw.fits    1 BinTableHDU     18   13402307R x 3C   [E, E, 9A]   \n"
     ]
    }
   ],
   "source": [
    "fits_random = os.path.join('/Volumes/data/SN-C3_randoms_ugriz_trim_video.fits') \n",
    "\n",
    "# Open the FITS file using astropy.io.fits\n",
    "hdulist = fits.open(fits_random)\n",
    "hdulist.info()\n",
    "\n",
    "t2= Table.read(fits_random)"
   ]
  },
  {
   "cell_type": "code",
   "execution_count": 5,
   "id": "ac36b8ce",
   "metadata": {},
   "outputs": [],
   "source": [
    "ra_2 = t2['ra'][::1000]\n",
    "dec_2 = t2['dec'][::1000]\n",
    "\n",
    "\n",
    "ra_rand=ra_2*u.deg\n",
    "dec_rand=dec_2*u.deg\n"
   ]
  },
  {
   "cell_type": "markdown",
   "id": "5eb88f42",
   "metadata": {},
   "source": [
    "## Select catalog subset !!!"
   ]
  },
  {
   "cell_type": "code",
   "execution_count": 6,
   "id": "3c10b30f",
   "metadata": {},
   "outputs": [],
   "source": [
    "# Select redshift subset \n",
    "subset = (t['z'] > 0.6) & (t['z'] < 0.7) & (t['SM']>10.5)& (t['SM']<11) #solar masses\n",
    "\n",
    "# Extract right ascension (ra) and declination (dec) arrays from the subset\n",
    "ra_subset = t['ra'][subset] #[::100]\n",
    "dec_subset = t['dec'][subset]#[::100]\n",
    "\n",
    "\n",
    "ra=ra_subset*u.deg\n",
    "dec=dec_subset*u.deg\n",
    "\n"
   ]
  },
  {
   "cell_type": "code",
   "execution_count": 7,
   "id": "60e3d9c0",
   "metadata": {},
   "outputs": [],
   "source": [
    "config = {\n",
    "    'ra_col': 'ra',\n",
    "    'dec_col': 'dec',\n",
    "    'ra_units': 'deg',\n",
    "    'dec_units': 'deg',\n",
    "    'min_sep': 0.003,  # Define the minimum separation\n",
    "    'max_sep': 1.78,   # Define the maximum separation\n",
    "    'bin_size': 0.1, # Define the desired bin size (adjust as needed)\n",
    "    'sep_units':'deg'\n",
    "\n",
    "}\n",
    "\n",
    "cat1 = treecorr.Catalog(ra=ra, dec=dec, config=config, npatch=50)  # my catalog subset\n",
    "cat2 = treecorr.Catalog(ra= ra_rand, dec= dec_rand, config=config, npatch=50)"
   ]
  },
  {
   "cell_type": "code",
   "execution_count": 8,
   "id": "61d4a980",
   "metadata": {},
   "outputs": [],
   "source": [
    "\n",
    "dd = treecorr.NNCorrelation(config) #var_method='bootstrap'\n",
    "rr = treecorr.NNCorrelation(config)\n",
    "\n",
    " "
   ]
  },
  {
   "cell_type": "markdown",
   "id": "3e76caee",
   "metadata": {},
   "source": [
    "## kernel dies from here, so sad :(("
   ]
  },
  {
   "cell_type": "code",
   "execution_count": null,
   "id": "04173e70",
   "metadata": {},
   "outputs": [],
   "source": [
    "dd.process(cat1)   \n",
    "rr.process(cat2) "
   ]
  },
  {
   "cell_type": "code",
   "execution_count": null,
   "id": "1732e40b",
   "metadata": {},
   "outputs": [],
   "source": [
    "rd = treecorr.NNCorrelation(config) \n",
    "dr = treecorr.NNCorrelation(config)"
   ]
  },
  {
   "cell_type": "code",
   "execution_count": null,
   "id": "541bd6f1",
   "metadata": {},
   "outputs": [],
   "source": [
    "rd.process(cat1, cat2)   \n",
    "dr.process(cat1, cat2) "
   ]
  },
  {
   "cell_type": "code",
   "execution_count": null,
   "id": "d7d68baa",
   "metadata": {},
   "outputs": [],
   "source": [
    "dd.calculateXi(rr=rr, dr=dr)"
   ]
  },
  {
   "cell_type": "code",
   "execution_count": null,
   "id": "ce99e1b6",
   "metadata": {},
   "outputs": [],
   "source": [
    "diag = dd.estimate_cov(method='shot') #  In this case, the returned value will only be the diagonal.\n",
    "std= np.sqrt(diag)\n",
    "print(std)"
   ]
  },
  {
   "cell_type": "code",
   "execution_count": null,
   "id": "3ab06c51",
   "metadata": {},
   "outputs": [],
   "source": [
    "theta_edges=np.linspace(-2.5,0.25,50) #-2.5 and 0.25 are log of the max and min separation in degrees\n",
    "theta_cen= (theta_edges[:-1]+theta_edges[1:])/2\n"
   ]
  },
  {
   "cell_type": "code",
   "execution_count": null,
   "id": "9f639528",
   "metadata": {},
   "outputs": [],
   "source": [
    "deg_theta_cen=10**theta_cen\n",
    "\n",
    "w_fit= 2e-2* deg_theta_cen**(-0.8)\n",
    "cuts=(deg_theta_cen>3e-3) & (deg_theta_cen <1) #define valid values\n"
   ]
  },
  {
   "cell_type": "code",
   "execution_count": null,
   "id": "b931287a",
   "metadata": {},
   "outputs": [],
   "source": [
    "from astropy.cosmology import Planck15\n",
    "import matplotlib.pyplot as plt\n",
    "%matplotlib inline\n",
    "plt.rc('font',**{'family':'serif','size':18})\n",
    "plt.rc('text', usetex=True) "
   ]
  },
  {
   "cell_type": "code",
   "execution_count": null,
   "id": "f1277853",
   "metadata": {},
   "outputs": [],
   "source": [
    "\n",
    "w_fit_subset = w_fit[cuts]\n",
    "\n",
    "# Plot standard deviations\n",
    "fig = plt.figure(figsize=[10,7])\n",
    "ax = fig.add_subplot(111)\n",
    "ax.errorbar(deg_theta_cen[cuts], w_fit_subset, yerr=std, fmt='o', label='SN-C3')\n",
    "ax.set_xlabel(r'$\\theta$ (degrees)')\n",
    "ax.set_ylabel(r'$w(\\theta)$')\n",
    "ax.set_xscale('log')\n",
    "ax.set_yscale('log')\n",
    "ax.set_ylim([1e-4,10.])\n",
    "ax.set_xlim([8e-4,2.])\n",
    "secax = ax.secondary_xaxis('top',functions=(lambda x: x*Planck15.kpc_proper_per_arcmin(z_mean).value*60./1e3,\n",
    "                                   lambda x: x*Planck15.arcsec_per_kpc_proper(z_mean).value*1e3/3.6e3))\n",
    "secax.set_xlabel(r'Mpc')\n",
    "ax.legend()\n",
    "\n",
    "\n",
    "\n",
    "print(std)"
   ]
  },
  {
   "cell_type": "code",
   "execution_count": null,
   "id": "701f56c9",
   "metadata": {},
   "outputs": [],
   "source": []
  }
 ],
 "metadata": {
  "kernelspec": {
   "display_name": "Python 3 (ipykernel)",
   "language": "python",
   "name": "python3"
  },
  "language_info": {
   "codemirror_mode": {
    "name": "ipython",
    "version": 3
   },
   "file_extension": ".py",
   "mimetype": "text/x-python",
   "name": "python",
   "nbconvert_exporter": "python",
   "pygments_lexer": "ipython3",
   "version": "3.11.0"
  }
 },
 "nbformat": 4,
 "nbformat_minor": 5
}

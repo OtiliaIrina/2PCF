{
 "cells": [
  {
   "cell_type": "markdown",
   "id": "826cbb48",
   "metadata": {},
   "source": [
    "### TreeCorr is a package for efficiently computing 2-point and 3-point correlation functions.\n",
    "documentation: https://rmjarvis.github.io/TreeCorr/_build/html/overview.html\n"
   ]
  },
  {
   "cell_type": "code",
   "execution_count": 1,
   "id": "64957744",
   "metadata": {},
   "outputs": [],
   "source": [
    "import astropy.io.fits as fits\n",
    "import numpy as np\n",
    "from astropy.coordinates import SkyCoord\n",
    "from astropy import units as u\n",
    "from astropy.table import Table,join\n",
    "import os\n",
    "import matplotlib.pyplot as plt\n",
    "from astropy.cosmology import FlatLambdaCDM\n",
    "import treecorr\n",
    "\n",
    "\n",
    "\n",
    "# Get the current user's home directory\n",
    "home_dir = os.path.expanduser('~')\n",
    "\n",
    "# Construct the path to the \"Thesis\" directory on the desktop\n",
    "thesis_path = os.path.join(home_dir, 'Desktop', 'Thesis')\n",
    "\n",
    "\n",
    "# Assuming you have the path to the FITS file stored in thesis_path\n",
    "fits_file_path = os.path.join(thesis_path, \"Y3_deep_fields_DB_wKNN_cat_SN-C3_zm.fits\")  # Replace with your actual file name\n",
    "\n",
    "fits_random = os.path.join(thesis_path, \"SN-C3_randoms_ugriz_trim_video.fits\") \n"
   ]
  },
  {
   "cell_type": "code",
   "execution_count": 2,
   "id": "541926f7",
   "metadata": {},
   "outputs": [],
   "source": [
    "t= Table.read(fits_file_path)\n",
    "\n",
    "masked = os.path.join(thesis_path, \"SN-C3_masked_cat.fits\")  # Replace with your actual file name\n",
    "\n",
    "t3= Table.read(masked)\n"
   ]
  },
  {
   "cell_type": "code",
   "execution_count": 3,
   "id": "71e798a2",
   "metadata": {},
   "outputs": [],
   "source": [
    "t=join(t,t3,keys='id')\n",
    "\n",
    "\n",
    "t.rename_column('ra_1','ra')\n",
    "t.rename_column('dec_1','dec')"
   ]
  },
  {
   "cell_type": "markdown",
   "id": "5eb88f42",
   "metadata": {},
   "source": [
    "## Select catalog subset !!!"
   ]
  },
  {
   "cell_type": "code",
   "execution_count": 4,
   "id": "3c10b30f",
   "metadata": {},
   "outputs": [],
   "source": [
    "# Select redshift subset \n",
    "subset = (t['z'] > 0.6) & (t['z'] < 0.7) & (t['SM']>10.5)& (t['SM']<11) #solar masses\n",
    "\n",
    "# Extract right ascension (ra) and declination (dec) arrays from the subset\n",
    "ra_subset = t['ra'][subset] #[::100]\n",
    "dec_subset = t['dec'][subset]#[::100]\n",
    "\n",
    "\n",
    "# Create a TreeCorr Catalog object\n",
    "ra=ra_subset*u.deg\n",
    "dec=dec_subset*u.deg\n",
    "\n"
   ]
  },
  {
   "cell_type": "code",
   "execution_count": 5,
   "id": "60e3d9c0",
   "metadata": {},
   "outputs": [],
   "source": [
    "config = {\n",
    "    'ra_col': 'ra',\n",
    "    'dec_col': 'dec',\n",
    "    'ra_units': 'deg',\n",
    "    'dec_units': 'deg',\n",
    "    'min_sep': 0.003,  # Define the minimum separation\n",
    "    'max_sep': 1.78,   # Define the maximum separation\n",
    "    'bin_size': 0.1, # Define the desired bin size (adjust as needed)\n",
    "    'sep_units':'deg'\n",
    "\n",
    "}\n",
    "\n",
    "#catalog= SkyCoord(ra=ra_subset * u.deg, dec=dec_subset * u.deg)\n",
    "cat1 = treecorr.Catalog(ra=ra, dec=dec, config=config, npatch=50)  # my catalog subset\n",
    "cat2 = treecorr.Catalog(fits_random, config=config, npatch=50)"
   ]
  },
  {
   "cell_type": "code",
   "execution_count": 6,
   "id": "61d4a980",
   "metadata": {},
   "outputs": [],
   "source": [
    "\n",
    "#treecorr.NNCorrelation class requires two mandatory parameters: min_sep and max_sep.\n",
    "#These parameters define the minimum and maximum separation distances considered when calculating the correlation function.\n",
    "\n",
    "dd = treecorr.NNCorrelation(config) #var_method='bootstrap'\n",
    "rr = treecorr.NNCorrelation(config)\n",
    "\n",
    " "
   ]
  },
  {
   "cell_type": "code",
   "execution_count": 7,
   "id": "04173e70",
   "metadata": {},
   "outputs": [],
   "source": [
    "dd.process(cat1)   \n",
    "rr.process(cat2) "
   ]
  },
  {
   "cell_type": "code",
   "execution_count": 8,
   "id": "1732e40b",
   "metadata": {},
   "outputs": [],
   "source": [
    "rd = treecorr.NNCorrelation(config) \n",
    "dr = treecorr.NNCorrelation(config)"
   ]
  },
  {
   "cell_type": "code",
   "execution_count": null,
   "id": "541bd6f1",
   "metadata": {},
   "outputs": [],
   "source": [
    "rd.process(cat1, cat2)   \n",
    "dr.process(cat1, cat2) "
   ]
  },
  {
   "cell_type": "code",
   "execution_count": null,
   "id": "d7d68baa",
   "metadata": {},
   "outputs": [],
   "source": [
    "dd.calculateXi(rr=rr, dr=dr)"
   ]
  },
  {
   "cell_type": "code",
   "execution_count": null,
   "id": "ce99e1b6",
   "metadata": {},
   "outputs": [],
   "source": [
    "diag = dd.estimate_cov(method='shot') #  In this case, the returned value will only be the diagonal.\n",
    "print(np.sqrt(diag))"
   ]
  },
  {
   "cell_type": "code",
   "execution_count": null,
   "id": "f1277853",
   "metadata": {},
   "outputs": [],
   "source": []
  }
 ],
 "metadata": {
  "kernelspec": {
   "display_name": "Python 3 (ipykernel)",
   "language": "python",
   "name": "python3"
  },
  "language_info": {
   "codemirror_mode": {
    "name": "ipython",
    "version": 3
   },
   "file_extension": ".py",
   "mimetype": "text/x-python",
   "name": "python",
   "nbconvert_exporter": "python",
   "pygments_lexer": "ipython3",
   "version": "3.11.0"
  }
 },
 "nbformat": 4,
 "nbformat_minor": 5
}
